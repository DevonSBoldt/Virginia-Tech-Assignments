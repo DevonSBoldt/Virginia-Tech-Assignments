{
 "cells": [
  {
   "cell_type": "code",
   "execution_count": 6,
   "metadata": {
    "collapsed": false
   },
   "outputs": [],
   "source": [
    "from openai import OpenAI\n",
    "\n",
    "client = OpenAI(\n",
    "    # This is the default and can be omitted\n",
    "\tbase_url = 'http://aitools.cs.vt.edu:7860/openai/v1',\n",
    "    api_key=\"aitools\"\n",
    ")"
   ]
  },
  {
   "cell_type": "code",
   "execution_count": 7,
   "metadata": {
    "collapsed": false
   },
   "outputs": [],
   "source": [
    "def get_completion(prompt, \n",
    "\t\t\t\t   model=\"model=gpt-4-turbo-preview\", \n",
    "\t\t\t\t   max_tokens=4000):\n",
    "\t\n",
    "\tmessages = [{\"role\": \"user\", \"content\": prompt}]\n",
    "\n",
    "\tresponse = client.chat.completions.create(\n",
    "                messages=messages,\n",
    "                model=model,\n",
    "                max_tokens=max_tokens,\n",
    "\t\t        temperature=0)  # this is the degree of randomness of the model's output\n",
    "\t\n",
    "\treturn response.choices[0].message.content\n",
    "\n",
    "def converse(prompt, messages=None, \n",
    "\t\t\t model=\"model=gpt-4-turbo-preview\", \n",
    "\t\t\t max_tokens=4000,\n",
    "\t\t\t temperature=0, \n",
    "\t\t\t top_p=1, \n",
    "\t\t\t frequency_penalty=0,\n",
    "\t\t\t presence_penalty=0):\n",
    "\t\n",
    "    # Add the user's message to the list of messages\n",
    "    if messages is None:\n",
    "        messages = []\n",
    "\n",
    "    messages.append({\"role\": \"user\", \"content\": prompt})\n",
    "\n",
    "    response = client.chat.completions.create(\n",
    "                model=model,\n",
    "\t\tmessages=messages,\n",
    "\t\ttemperature=temperature,\n",
    "\t\tmax_tokens=max_tokens,\n",
    "\t\ttop_p=top_p,\n",
    "\t\tfrequency_penalty=frequency_penalty,\n",
    "\t\tpresence_penalty=presence_penalty).choices[0].message.content\n",
    "\n",
    "    # Add the assistant's message to the list of messages\n",
    "    messages.append({\"role\": \"assistant\", \"content\": response})\n",
    "\n",
    "    return response, messages\n"
   ]
  },
  {
   "cell_type": "code",
   "execution_count": 9,
   "metadata": {
    "collapsed": false
   },
   "outputs": [
    {
     "name": "stdout",
     "output_type": "stream",
     "text": [
      "Creating an aesthetically pleasing UI involves selecting a harmonious color palette that enhances readability, user engagement, and overall user experience. Based on the guidelines from Streamlit's theming capabilities and aiming for a modern, clean look, here's a suggested color scheme:\n",
      "\n",
      "1. **Primary Color**: This color will be the most visible across your UI, used for buttons, active states, and important components. For a versatile and modern look, let's choose a deep but vibrant blue.\n",
      "\n",
      "   - **Hex Code**: #4A90E2\n",
      "\n",
      "2. **Background Color**: This is the main color of your app's backdrop. It should be unobtrusive and complement the primary color. A light gray can provide a neutral canvas that makes your primary color pop while being easy on the eyes.\n",
      "\n",
      "   - **Hex Code**: #F0F2F5\n",
      "\n",
      "3. **Secondary Background Color**: Used for elements like sidebars, headers, or to distinguish different sections of the UI without overwhelming the primary color. A slightly darker shade of the background color can add depth while maintaining a cohesive look.\n",
      "\n",
      "   - **Hex Code**: #D9DCE1\n",
      "\n",
      "4. **Text Color**: For readability, it's crucial to have a text color that contrasts well with the background. A dark gray can be softer than pure black and more accessible, reducing eye strain.\n",
      "\n",
      "   - **Hex Code**: #333333\n",
      "\n",
      "Here's how you could implement these colors in a Streamlit app using the theming options:\n",
      "\n",
      "```python\n",
      "# Inside your .streamlit/config.toml\n",
      "\n",
      "[theme]\n",
      "primaryColor=\"#4A90E2\"\n",
      "backgroundColor=\"#F0F2F5\"\n",
      "secondaryBackgroundColor=\"#D9DCE1\"\n",
      "textColor=\"#333333\"\n",
      "```\n",
      "\n",
      "This setup ensures that your UI is not only aesthetically pleasing but also functional, with a color scheme that enhances usability and visual appeal. Remember, the best UI design balances beauty with user experience, so feel free to adjust these colors based on user feedback and specific needs of your project.\n"
     ]
    }
   ],
   "source": [
    "gpt4messages = []\n",
    "prompt_gpt4 = f\"Change this UI so it is aesthetically pleasing. Use this website as a resource https://blog.streamlit.io/introducing-theming/. With this in mind, give me hex codes for a primary, background, secondary background and text colors.\"\n",
    "\n",
    "response, gpt4messages = converse(prompt_gpt4, gpt4messages,\n",
    "\t\t\t\t\t\t\t  model=\"gpt-4-turbo-preview\",\t\t\t\t\t  \n",
    "\t\t\t\t\t\t\t  max_tokens=4000)\n",
    "print(response)\n"
   ]
  },
  {
   "cell_type": "code",
   "execution_count": null,
   "metadata": {},
   "outputs": [],
   "source": [
    "gpt4messages = []\n",
    "prompt_gpt4 = f\"\"\n",
    "\n",
    "response, gpt4messages = converse(prompt_gpt4, gpt4messages,\n",
    "\t\t\t\t\t\t\t  model=\"gpt-4-turbo-preview\",\t\t\t\t\t  \n",
    "\t\t\t\t\t\t\t  max_tokens=4000)\n",
    "print(response)\n"
   ]
  }
 ],
 "metadata": {
  "kernelspec": {
   "display_name": "Python 3",
   "language": "python",
   "name": "python3"
  },
  "language_info": {
   "codemirror_mode": {
    "name": "ipython",
    "version": 3
   },
   "file_extension": ".py",
   "mimetype": "text/x-python",
   "name": "python",
   "nbconvert_exporter": "python",
   "pygments_lexer": "ipython3",
   "version": "3.10.8"
  }
 },
 "nbformat": 4,
 "nbformat_minor": 0
}
