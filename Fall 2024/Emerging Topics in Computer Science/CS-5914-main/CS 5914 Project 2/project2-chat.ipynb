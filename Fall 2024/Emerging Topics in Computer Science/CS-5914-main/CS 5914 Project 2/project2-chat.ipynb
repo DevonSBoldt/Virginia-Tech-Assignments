{
 "cells": [
  {
   "cell_type": "markdown",
   "id": "fb127947ae786d3e",
   "metadata": {
    "collapsed": false
   },
   "source": [
    "# Project 2 AI Chat Notebook - \n",
    "\n",
    "In this notebook, we want to see your interaction with ChatGPT that you use to solve\n",
    "the unsupervised AND supervised machine learning tasks in `project2.ipynb`.  \n",
    "\n",
    "\n",
    "# ChatGPT functions to Use\n",
    "\n",
    "You are free to use these functions, or other LLMs, or the Web ChatGPT, as long as you show those systems' outputs\n",
    "so we are convinced you have used a large language model to perform the machine learning tasks.\n"
   ]
  },
  {
   "cell_type": "code",
   "execution_count": 1,
   "id": "575b42125efef914",
   "metadata": {
    "collapsed": false
   },
   "outputs": [],
   "source": [
    "from openai import OpenAI\n",
    "\n",
    "client = OpenAI(\n",
    "    # This is the default and can be omitted\n",
    "\tbase_url = 'http://aitools.cs.vt.edu:7860/openai/v1',\n",
    "    api_key=\"aitools\"\n",
    ")\n"
   ]
  },
  {
   "cell_type": "code",
   "execution_count": 7,
   "id": "4b1b57a91e19d6f7",
   "metadata": {
    "collapsed": false
   },
   "outputs": [],
   "source": [
    "\n",
    "def converse(prompt, messages=None, \n",
    "             model=\"gpt-3.5-turbo\", \n",
    "             max_tokens=4000, \n",
    "             temperature=0, \n",
    "             top_p=1, \n",
    "             frequency_penalty=0,\n",
    "\t\t\t presence_penalty=0):\n",
    "    # Add the user's message to the list of messages\n",
    "    if messages is None:\n",
    "        messages = []\n",
    "\n",
    "    messages.append({\"role\": \"user\", \"content\": prompt})\n",
    "\n",
    "    response = client.chat.completions.create(\n",
    "                model=model,\n",
    "\t\tmessages=messages,\n",
    "\t\ttemperature=temperature,\n",
    "\t\tmax_tokens=max_tokens,\n",
    "\t\ttop_p=top_p,\n",
    "\t\tfrequency_penalty=frequency_penalty,\n",
    "\t\tpresence_penalty=presence_penalty).choices[0].message.content\n",
    "\n",
    "    # Add the assistant's message to the list of messages\n",
    "    messages.append({\"role\": \"assistant\", \"content\": response})\n",
    "\n",
    "    return response, messages"
   ]
  },
  {
   "cell_type": "markdown",
   "id": "33f340e736f29545",
   "metadata": {
    "collapsed": false
   },
   "source": [
    "# Unsupervised Learning"
   ]
  },
  {
   "cell_type": "markdown",
   "id": "8b35358120e31f",
   "metadata": {
    "collapsed": false
   },
   "source": [
    "In this section, show us how you performed the unsupervised learning tasks with the help of Chat GPT. "
   ]
  },
  {
   "cell_type": "code",
   "execution_count": null,
   "id": "c81794323049a9e",
   "metadata": {
    "collapsed": false
   },
   "outputs": [],
   "source": [
    "import glob\n",
    "\n",
    "import pandas as pd\n",
    "from sklearn.cluster import KMeans\n",
    "from sklearn.feature_extraction.text import TfidfVectorizer\n"
   ]
  },
  {
   "cell_type": "code",
   "execution_count": null,
   "id": "5c1d92ebffba7018",
   "metadata": {
    "collapsed": false
   },
   "outputs": [],
   "source": [
    "prompt = \"\"\"\n",
    "- Load all data files matching 'data/datasets/train-00000-5k-*.parquet'.\n",
    "- Merge those dataframes into a single dataframe \"df\".\n",
    "\"\"\"\n",
    "response, messages = converse(prompt, [])\n",
    "print(response)"
   ]
  },
  {
   "cell_type": "markdown",
   "id": "f4d2afd9c026c929",
   "metadata": {},
   "source": [
    "## Showing Unsupervised Clustering Visually (Optional)"
   ]
  },
  {
   "cell_type": "code",
   "execution_count": null,
   "id": "f16a068044bb54d1",
   "metadata": {
    "collapsed": false
   },
   "outputs": [],
   "source": [
    "prompt = \"\"\"\n",
    "- Generate code to make a plot (use mathplotlib) showing the data points and clusters. Use a distinct color for each cluster.\n",
    "\"\"\"\n",
    "response, messages = converse(prompt, messages)\n",
    "print(response)"
   ]
  },
  {
   "cell_type": "code",
   "execution_count": null,
   "id": "1190d1f0b12ab547",
   "metadata": {
    "collapsed": false
   },
   "outputs": [],
   "source": [
    "# Supervised Learning"
   ]
  },
  {
   "cell_type": "markdown",
   "id": "32d2144609b420ae",
   "metadata": {},
   "source": [
    "In this section, show us how you performed the supervised learning tasks with the help of Chat GPT or other LLM."
   ]
  }
 ],
 "metadata": {
  "kernelspec": {
   "display_name": "Python 3",
   "language": "python",
   "name": "python3"
  },
  "language_info": {
   "codemirror_mode": {
    "name": "ipython",
    "version": 3
   },
   "file_extension": ".py",
   "mimetype": "text/x-python",
   "name": "python",
   "nbconvert_exporter": "python",
   "pygments_lexer": "ipython3",
   "version": "3.10.8"
  }
 },
 "nbformat": 4,
 "nbformat_minor": 5
}
