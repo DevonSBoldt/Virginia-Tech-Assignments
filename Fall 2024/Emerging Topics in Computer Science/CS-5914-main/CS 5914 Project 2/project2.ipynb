{
 "cells": [
  {
   "cell_type": "code",
   "execution_count": null,
   "id": "34bb7c65ab7a5a10",
   "metadata": {
    "collapsed": false
   },
   "outputs": [],
   "source": [
    "!pip3 install -r requirements.txt"
   ]
  },
  {
   "cell_type": "markdown",
   "id": "fb127947ae786d3e",
   "metadata": {
    "collapsed": false
   },
   "source": [
    "# Project 2 AI Chat Notebook\n",
    "\n",
    "In this notebook, we want to see the code you use to solve\n",
    "the machine learning tasks below.  Additionally, for the supervised section, we will want to see an image of a graph representing \n",
    "the training times and accuracy of supervised models.\n",
    "\n",
    "When run, this notebook should first run the unsupervised learning algorithm, and then the supervised algorithm.\n"
   ]
  },
  {
   "cell_type": "markdown",
   "id": "33f340e736f29545",
   "metadata": {
    "collapsed": false
   },
   "source": [
    "# Unsupervised Learning"
   ]
  },
  {
   "cell_type": "markdown",
   "id": "8b35358120e31f",
   "metadata": {
    "collapsed": false
   },
   "source": [
    "In this section, we will use the data set as a whole and classify the code using the unsupervised K-means clustering algorithm.\n",
    "Use the imports below.\n",
    " "
   ]
  },
  {
   "cell_type": "code",
   "execution_count": 11,
   "id": "c81794323049a9e",
   "metadata": {
    "collapsed": false
   },
   "outputs": [],
   "source": [
    "import glob\n",
    "\n",
    "import pandas as pd\n",
    "from sklearn.cluster import KMeans\n",
    "from sklearn.feature_extraction.text import TfidfVectorizer\n"
   ]
  },
  {
   "cell_type": "markdown",
   "id": "336f881e632e7ba8",
   "metadata": {
    "collapsed": false
   },
   "source": [
    "- Load all data files matching 'data/datasets/train-00000-5k-*.parquet'.\n",
    "- Merge those dataframes into a single dataframe \"df\"."
   ]
  },
  {
   "cell_type": "code",
   "execution_count": null,
   "id": "d50a1e77",
   "metadata": {},
   "outputs": [],
   "source": [
    "import glob\n",
    "\n",
    "import pandas as pd\n",
    "from sklearn.cluster import KMeans\n",
    "from sklearn.feature_extraction.text import TfidfVectorizer\n",
    "\n",
    "# Define the file pattern\n",
    "file_pattern = 'data/datasets/train-00000-5k-*.parquet'\n",
    "\n",
    "# Get list of all files matching the pattern\n",
    "files = glob.glob(file_pattern)\n",
    "\n",
    "# Load all parquet files and concatenate into one DataFrame\n",
    "df = pd.concat([pd.read_parquet(file) for file in files])\n",
    "\n",
    "# Display the first few rows\n",
    "print(df.head())"
   ]
  },
  {
   "cell_type": "code",
   "execution_count": null,
   "id": "871064e6",
   "metadata": {},
   "outputs": [],
   "source": [
    "import glob\n",
    "import pandas as pd\n",
    "from sklearn.cluster import KMeans\n",
    "from sklearn.feature_extraction.text import TfidfVectorizer\n",
    "\n",
    "# Define the file pattern\n",
    "file_pattern = 'data/datasets/train-00000-5k-*.parquet'\n",
    "\n",
    "# Get the list of all files matching the pattern\n",
    "matching_files = glob.glob(file_pattern)\n",
    "\n",
    "# Load and merge all matching parquet files into a single DataFrame named df\n",
    "df = pd.concat([pd.read_parquet(file) for file in matching_files], ignore_index=True)\n",
    "\n",
    "# Display the first few rows to confirm\n",
    "df.head()"
   ]
  },
  {
   "cell_type": "markdown",
   "id": "a5fa0bcc5eb0a26d",
   "metadata": {
    "collapsed": false
   },
   "source": [
    "- Define the code snippets (from data frames's \"code\" attribute)\n",
    "- Define labels (from dataframe's \"language\" attribute)"
   ]
  },
  {
   "cell_type": "code",
   "execution_count": 14,
   "id": "dd56a6cd",
   "metadata": {},
   "outputs": [],
   "source": [
    "# Extracting the code snippets from the 'code' column in the dataframe\n",
    "code_snippets = df['code'].tolist\n",
    "\n",
    "# Extracting the labels from the 'language' column in the dataframe\n",
    "labels = df['language'].tolist"
   ]
  },
  {
   "cell_type": "markdown",
   "id": "cd2b19d1f7c5b8b8",
   "metadata": {
    "collapsed": false
   },
   "source": [
    "- Convert code snippets to TF-IDF features"
   ]
  },
  {
   "cell_type": "code",
   "execution_count": null,
   "id": "d15d77fa",
   "metadata": {},
   "outputs": [],
   "source": [
    "from sklearn.feature_extraction.text import TfidfVectorizer\n",
    "\n",
    "# Initialize the TF-IDF vectorizer\n",
    "vectorizer = TfidfVectorizer(stop_words='english', max_features=1000)\n",
    "\n",
    "# Ensure code_snippets is a list or iterable\n",
    "code_snippets = df['code'].tolist()  # Assuming 'code' is the column with code snippets\n",
    "\n",
    "# Convert the code snippets into TF-IDF features\n",
    "tfidf_features = vectorizer.fit_transform(code_snippets)\n",
    "\n",
    "# Display the shape of the resulting TF-IDF matrix\n",
    "print(\"TF-IDF Features Shape:\", tfidf_features.shape)"
   ]
  },
  {
   "cell_type": "markdown",
   "id": "ae363b1f1b2db948",
   "metadata": {
    "collapsed": false
   },
   "source": [
    "- Perform K-Means clustering"
   ]
  },
  {
   "cell_type": "code",
   "execution_count": 16,
   "id": "36cb7a80",
   "metadata": {},
   "outputs": [],
   "source": [
    "from sklearn.cluster import KMeans\n",
    "\n",
    "# Perform K-Means clustering with 5 clusters\n",
    "kmeans = KMeans(n_clusters=5, random_state=42)\n",
    "cluster_labels = kmeans.fit_predict(tfidf_features)"
   ]
  },
  {
   "cell_type": "markdown",
   "id": "411024110293e895",
   "metadata": {
    "collapsed": false
   },
   "source": [
    "- Print the cluster assignments with each cluster being truncated to 80 characters long."
   ]
  },
  {
   "cell_type": "code",
   "execution_count": null,
   "id": "8ef32cbc",
   "metadata": {},
   "outputs": [],
   "source": [
    "# Add cluster labels to the dataframe \n",
    "df['cluster'] = cluster_labels\n",
    "\n",
    "# Function to truncate code snippets to 80 characters and replace newline characters\n",
    "def truncate_and_replace_newline(text):\n",
    "    text = text.replace('\\n', ' ')\n",
    "    return text[:80]\n",
    "\n",
    "# Print 10 examples from each cluster \n",
    "for cluster_num in range(5): \n",
    "    cluster_df = df[df['cluster'] == cluster_num].head(10)\n",
    "    print(f\"Cluster {cluster_num + 1} Examples:\")\n",
    "    for index, row in cluster_df.iterrows():  # Corrected here\n",
    "        truncated_code = truncate_and_replace_newline(row['code'])\n",
    "        print(f\"Code Snippet: {truncated_code}\")\n",
    "    print(\"\\n\")"
   ]
  },
  {
   "cell_type": "markdown",
   "id": "ccfeb752fa1a9db9",
   "metadata": {
    "collapsed": false
   },
   "source": [
    "## TODO: Unsupervised Learning Cluster Explanation\n",
    "\n",
    "- This should be an English paragraph statement declaring how you assessed the quality/meaning of the clusters.\n",
    "This should be simply explaining how you think each cluster is formed/defined."
   ]
  },
  {
   "cell_type": "markdown",
   "id": "219068c09833fa91",
   "metadata": {
    "collapsed": false
   },
   "source": [
    "To assess the quality / meaning of the clusters, I analyzed how each cluster groups together similar data points based on their features. By examining the characteristics and common attributes within each cluster, I determined the defining features that separate one cluster from another. "
   ]
  },
  {
   "cell_type": "markdown",
   "id": "1efbafd5bb8492a7",
   "metadata": {
    "collapsed": false
   },
   "source": [
    "# Supervised Learning\n",
    "\n",
    "Write a python script that loads successively larger data files and merges them into larger training sets.\n",
    "For each training set, let's track training time, prediction time, and accuracy.\n",
    "Use the imports below."
   ]
  },
  {
   "cell_type": "code",
   "execution_count": 6,
   "id": "e891d8a82fdf7686",
   "metadata": {
    "collapsed": false
   },
   "outputs": [],
   "source": [
    "import glob\n",
    "import time\n",
    "\n",
    "import pandas as pd\n",
    "from sklearn.feature_extraction.text import TfidfVectorizer\n",
    "from sklearn.metrics import classification_report, accuracy_score\n",
    "from sklearn.model_selection import train_test_split\n",
    "from sklearn.svm import SVC\n"
   ]
  },
  {
   "cell_type": "markdown",
   "id": "ba6c646cb7c8f491",
   "metadata": {
    "collapsed": false
   },
   "source": [
    "Make a python function that tacks measurements for each round including the round number/index, how long in seconds to train, predict steps take, and an accuracy report. Also use a list of dictionaries for measurement storage, with \"round\", \"train\", \"predict\", \"accuracy\" as keys"
   ]
  },
  {
   "cell_type": "code",
   "execution_count": 1,
   "id": "8a00a2ad",
   "metadata": {},
   "outputs": [],
   "source": [
    "import glob\n",
    "import time\n",
    "\n",
    "import pandas as pd\n",
    "from sklearn.feature_extraction.text import TfidfVectorizer\n",
    "from sklearn.metrics import classification_report, accuracy_score\n",
    "from sklearn.model_selection import train_test_split\n",
    "from sklearn.svm import SVC\n",
    "\n",
    "measurements = []\n",
    "\n",
    "# Function to track measurements for each round\n",
    "def track_measurements(round_num, train_time, predict_steps, accuracy):\n",
    "    measurement = {\n",
    "        \"round\": round_num,\n",
    "        \"train\": train_time,\n",
    "        \"predict\": predict_steps,\n",
    "        \"accuracy\": accuracy\n",
    "    }\n",
    "    measurements.append(measurement)"
   ]
  },
  {
   "cell_type": "markdown",
   "id": "dd2d32c6cf84ea7f",
   "metadata": {
    "collapsed": false
   },
   "source": [
    "- Write a function named learn that takes a dataframe and an index as parameters.\n",
    "- The index indicates the round number of learning. The function should:\n",
    "- 1. Create a dictionary to store the measurements for this round\n",
    "- 2. Print a message indicating the round number\n",
    "- 3. Store the round number in the dictionary under 'round'\n",
    "- 4. Split the dataframe into code snippets and labels\n",
    "- 5. Split the code snippets and labels into training and test sets\n",
    "- 6. Create a TF-IDF vectorizer\n",
    "- 7. Use the 'fit_transform' method on the training data to learn the vocabulary and idf, and return term-document matrix.\n",
    "- 8. Use the 'transform' method on the test data to transform documents to document-term matrix.\n",
    "- 9. Create a Support Vector Machine classifier\n",
    "- 10. Train the classifier using the training data\n",
    "- 11. Save the model to a file and load it back from a file (to make sure it works)\n",
    "- 12. Use the classifier to predict the labels for the test data\n",
    "- 13. Print the classification report which should be a dictionary\n",
    "- 14. Store the training time in the dictionary under 'train'\n",
    "- 15. Store the prediction time in the dictionary under 'predict'\n",
    "- 16. Store the classification report in the dictionary under 'report'\n",
    "- 17. Add 'accuracy' to the dictionary and set it to the accuracy score from the classification report\n",
    "- 18. Append the dictionary to the measurements list for this round"
   ]
  },
  {
   "cell_type": "code",
   "execution_count": 1,
   "id": "02161092",
   "metadata": {},
   "outputs": [],
   "source": [
    "import time\n",
    "import joblib\n",
    "from sklearn.feature_extraction.text import TfidfVectorizer\n",
    "from sklearn.model_selection import train_test_split\n",
    "from sklearn.svm import SVC\n",
    "from sklearn.metrics import accuracy_score, classification_report\n",
    "\n",
    "def learn(df, index, measurements):\n",
    "    # Create dictionary to store measurements for this round\n",
    "    measurement = {}\n",
    "\n",
    "    # Print message indicating round number\n",
    "    print(f\"Round {index}\")\n",
    "\n",
    "    # Store round number in dictionary\n",
    "    measurement[\"round\"] = index\n",
    "\n",
    "    # Split dataframe into code snippets and labels\n",
    "    X = df['code']\n",
    "    y = df['language']\n",
    "\n",
    "    # Split code snippets and labels into training and test sets\n",
    "    X_train, X_test, y_train, y_test = train_test_split(X, y, test_size=0.2, random_state=42)\n",
    "\n",
    "    # Store training and test sets in dictionary\n",
    "    measurement[\"X_train\"] = X_train\n",
    "    measurement[\"X_test\"] = X_test\n",
    "    measurement[\"y_train\"] = y_train\n",
    "    measurement[\"y_test\"] = y_test\n",
    "\n",
    "    # Create TF-IDF vectorizer\n",
    "    vectorizer = TfidfVectorizer()\n",
    "\n",
    "    # Fit and transform the training data to learn the vocabulary and idf\n",
    "    start_train_time = time.time()\n",
    "    X_train_tfidf = vectorizer.fit_transform(X_train)\n",
    "    end_train_time = time.time()\n",
    "    train_time = end_train_time - start_train_time\n",
    "\n",
    "    # Store TF-IDF matrix and training time in dictionary\n",
    "    measurement[\"X_train_tfidf\"] = X_train_tfidf\n",
    "    measurement[\"train\"] = train_time\n",
    "\n",
    "    # Transform the test data to document-term matrix\n",
    "    start_predict_time = time.time()\n",
    "    X_test_tfidf = vectorizer.transform(X_test)\n",
    "    end_predict_time = time.time()\n",
    "    predict_time = end_predict_time - start_predict_time\n",
    "\n",
    "    # Store transformed test data and prediction time in dictionary\n",
    "    measurement[\"X_test_tfidf\"] = X_test_tfidf\n",
    "    measurement[\"predict\"] = predict_time\n",
    "\n",
    "    # Create Support Vector Machine classifier\n",
    "    clf = SVC()\n",
    "\n",
    "    # Train the classifier using the training data\n",
    "    clf.fit(X_train_tfidf, y_train)\n",
    "\n",
    "    # Use the classifier to predict the labels for the test data\n",
    "    y_pred = clf.predict(X_test_tfidf)\n",
    "\n",
    "    # Print the classification report\n",
    "    report = classification_report(y_test, y_pred, output_dict=True)\n",
    "    measurement[\"report\"] = report\n",
    "\n",
    "    # Calculate accuracy and store in dictionary\n",
    "    accuracy = accuracy_score(y_test, y_pred)\n",
    "    measurement[\"accuracy\"] = accuracy\n",
    "\n",
    "    # Append the dictionary to the measurements list for this round\n",
    "    measurements.append(measurement)\n",
    "\n",
    "    return measurements\n",
    "\n"
   ]
  },
  {
   "cell_type": "markdown",
   "id": "253ea4a44fe883e3",
   "metadata": {
    "collapsed": false
   },
   "source": [
    "- Load all data files matching 'data/datasets/train-00000-5k*.parquet'.\n",
    "- For each file loaded, merge the latest data file with the merged data to date,\n",
    "- and call the learn function with the dataframe and the index of the file in the list of files."
   ]
  },
  {
   "cell_type": "code",
   "execution_count": 10,
   "id": "e5b99eb2",
   "metadata": {},
   "outputs": [
    {
     "name": "stdout",
     "output_type": "stream",
     "text": [
      "Round 0:\n"
     ]
    },
    {
     "name": "stderr",
     "output_type": "stream",
     "text": [
      "c:\\Users\\Devon\\Desktop\\Virginia Tech\\VT Emerging Topics\\Project 1\\.venv\\lib\\site-packages\\sklearn\\metrics\\_classification.py:1531: UndefinedMetricWarning: Precision is ill-defined and being set to 0.0 in labels with no predicted samples. Use `zero_division` parameter to control this behavior.\n",
      "  _warn_prf(average, modifier, f\"{metric.capitalize()} is\", len(result))\n",
      "c:\\Users\\Devon\\Desktop\\Virginia Tech\\VT Emerging Topics\\Project 1\\.venv\\lib\\site-packages\\sklearn\\metrics\\_classification.py:1531: UndefinedMetricWarning: Precision is ill-defined and being set to 0.0 in labels with no predicted samples. Use `zero_division` parameter to control this behavior.\n",
      "  _warn_prf(average, modifier, f\"{metric.capitalize()} is\", len(result))\n",
      "c:\\Users\\Devon\\Desktop\\Virginia Tech\\VT Emerging Topics\\Project 1\\.venv\\lib\\site-packages\\sklearn\\metrics\\_classification.py:1531: UndefinedMetricWarning: Precision is ill-defined and being set to 0.0 in labels with no predicted samples. Use `zero_division` parameter to control this behavior.\n",
      "  _warn_prf(average, modifier, f\"{metric.capitalize()} is\", len(result))\n"
     ]
    },
    {
     "name": "stdout",
     "output_type": "stream",
     "text": [
      "Round 1:\n"
     ]
    },
    {
     "name": "stderr",
     "output_type": "stream",
     "text": [
      "c:\\Users\\Devon\\Desktop\\Virginia Tech\\VT Emerging Topics\\Project 1\\.venv\\lib\\site-packages\\sklearn\\metrics\\_classification.py:1531: UndefinedMetricWarning: Precision is ill-defined and being set to 0.0 in labels with no predicted samples. Use `zero_division` parameter to control this behavior.\n",
      "  _warn_prf(average, modifier, f\"{metric.capitalize()} is\", len(result))\n",
      "c:\\Users\\Devon\\Desktop\\Virginia Tech\\VT Emerging Topics\\Project 1\\.venv\\lib\\site-packages\\sklearn\\metrics\\_classification.py:1531: UndefinedMetricWarning: Precision is ill-defined and being set to 0.0 in labels with no predicted samples. Use `zero_division` parameter to control this behavior.\n",
      "  _warn_prf(average, modifier, f\"{metric.capitalize()} is\", len(result))\n",
      "c:\\Users\\Devon\\Desktop\\Virginia Tech\\VT Emerging Topics\\Project 1\\.venv\\lib\\site-packages\\sklearn\\metrics\\_classification.py:1531: UndefinedMetricWarning: Precision is ill-defined and being set to 0.0 in labels with no predicted samples. Use `zero_division` parameter to control this behavior.\n",
      "  _warn_prf(average, modifier, f\"{metric.capitalize()} is\", len(result))\n"
     ]
    },
    {
     "name": "stdout",
     "output_type": "stream",
     "text": [
      "Round 2:\n"
     ]
    },
    {
     "name": "stderr",
     "output_type": "stream",
     "text": [
      "c:\\Users\\Devon\\Desktop\\Virginia Tech\\VT Emerging Topics\\Project 1\\.venv\\lib\\site-packages\\sklearn\\metrics\\_classification.py:1531: UndefinedMetricWarning: Precision is ill-defined and being set to 0.0 in labels with no predicted samples. Use `zero_division` parameter to control this behavior.\n",
      "  _warn_prf(average, modifier, f\"{metric.capitalize()} is\", len(result))\n",
      "c:\\Users\\Devon\\Desktop\\Virginia Tech\\VT Emerging Topics\\Project 1\\.venv\\lib\\site-packages\\sklearn\\metrics\\_classification.py:1531: UndefinedMetricWarning: Precision is ill-defined and being set to 0.0 in labels with no predicted samples. Use `zero_division` parameter to control this behavior.\n",
      "  _warn_prf(average, modifier, f\"{metric.capitalize()} is\", len(result))\n",
      "c:\\Users\\Devon\\Desktop\\Virginia Tech\\VT Emerging Topics\\Project 1\\.venv\\lib\\site-packages\\sklearn\\metrics\\_classification.py:1531: UndefinedMetricWarning: Precision is ill-defined and being set to 0.0 in labels with no predicted samples. Use `zero_division` parameter to control this behavior.\n",
      "  _warn_prf(average, modifier, f\"{metric.capitalize()} is\", len(result))\n"
     ]
    },
    {
     "name": "stdout",
     "output_type": "stream",
     "text": [
      "Round 3:\n",
      "   round       train    predict  accuracy  \\\n",
      "0      0   15.144351   2.573369  0.782667   \n",
      "1      1   66.311453  11.985574  0.819667   \n",
      "2      2  138.472528  27.755865  0.833778   \n",
      "3      3  252.557590  53.362949  0.843500   \n",
      "\n",
      "                                              report  \n",
      "0  {'Assembly': {'precision': 0.0, 'recall': 0.0,...  \n",
      "1  {'Assembly': {'precision': 0.0, 'recall': 0.0,...  \n",
      "2  {'Assembly': {'precision': 0.0, 'recall': 0.0,...  \n",
      "3  {'Assembly': {'precision': 0.0, 'recall': 0.0,...  \n"
     ]
    },
    {
     "name": "stderr",
     "output_type": "stream",
     "text": [
      "c:\\Users\\Devon\\Desktop\\Virginia Tech\\VT Emerging Topics\\Project 1\\.venv\\lib\\site-packages\\sklearn\\metrics\\_classification.py:1531: UndefinedMetricWarning: Precision is ill-defined and being set to 0.0 in labels with no predicted samples. Use `zero_division` parameter to control this behavior.\n",
      "  _warn_prf(average, modifier, f\"{metric.capitalize()} is\", len(result))\n",
      "c:\\Users\\Devon\\Desktop\\Virginia Tech\\VT Emerging Topics\\Project 1\\.venv\\lib\\site-packages\\sklearn\\metrics\\_classification.py:1531: UndefinedMetricWarning: Precision is ill-defined and being set to 0.0 in labels with no predicted samples. Use `zero_division` parameter to control this behavior.\n",
      "  _warn_prf(average, modifier, f\"{metric.capitalize()} is\", len(result))\n",
      "c:\\Users\\Devon\\Desktop\\Virginia Tech\\VT Emerging Topics\\Project 1\\.venv\\lib\\site-packages\\sklearn\\metrics\\_classification.py:1531: UndefinedMetricWarning: Precision is ill-defined and being set to 0.0 in labels with no predicted samples. Use `zero_division` parameter to control this behavior.\n",
      "  _warn_prf(average, modifier, f\"{metric.capitalize()} is\", len(result))\n"
     ]
    }
   ],
   "source": [
    "import glob\n",
    "import time\n",
    "import pandas as pd\n",
    "import joblib\n",
    "from sklearn.feature_extraction.text import TfidfVectorizer\n",
    "from sklearn.model_selection import train_test_split\n",
    "from sklearn.svm import SVC\n",
    "from sklearn.metrics import accuracy_score, classification_report\n",
    "import os\n",
    "\n",
    "def learn(df, index, measurements):\n",
    "    # Create a dictionary to store the measurements for this round\n",
    "    round_measure = {\"round\": index}\n",
    "    \n",
    "    # Print a message indicating the round number\n",
    "    print(f\"Round {index}:\")\n",
    "\n",
    "    # Split the dataframe into code snippets (features) and labels\n",
    "    X = df['code']\n",
    "    y = df['language']\n",
    "\n",
    "    # Initialize vectorizer and model\n",
    "    vectorizer = TfidfVectorizer()\n",
    "    model = SVC()\n",
    "\n",
    "    # Vectorization\n",
    "    X_tfidf = vectorizer.fit_transform(X)\n",
    "\n",
    "    # Split data and ensure at least one sample of each class in both train and test sets\n",
    "    while True:\n",
    "        X_train_tfidf, X_test_tfidf, y_train, y_test = train_test_split(X_tfidf, y, test_size=0.3, random_state=42)\n",
    "        if len(set(y_train)) > 1 and len(set(y_test)) > 1:\n",
    "            break  # If the split is valid, exit the loop\n",
    "    \n",
    "    # Measure training time\n",
    "    start_train = time.time()\n",
    "    model.fit(X_train_tfidf, y_train)\n",
    "    end_train = time.time()\n",
    "    \n",
    "    # Store training time\n",
    "    round_measure[\"train\"] = end_train - start_train\n",
    "    \n",
    "    # Measure prediction time\n",
    "    start_predict = time.time()\n",
    "    y_pred = model.predict(X_test_tfidf)\n",
    "    end_predict = time.time()\n",
    "    \n",
    "    # Store prediction time\n",
    "    round_measure[\"predict\"] = end_predict - start_predict\n",
    "    \n",
    "    # Calculate accuracy\n",
    "    accuracy = accuracy_score(y_test, y_pred)\n",
    "    round_measure[\"accuracy\"] = accuracy\n",
    "    \n",
    "    # Print the classification report\n",
    "    report = classification_report(y_test, y_pred, output_dict=True)\n",
    "    round_measure[\"report\"] = report\n",
    "    \n",
    "    # Append the dictionary to the measurements list for this round\n",
    "    measurements.append(round_measure)\n",
    "    \n",
    "    return measurements\n",
    "\n",
    "# Load all data files matching 'data/datasets/train-00000-5k*.parquet'\n",
    "data_files = [file for file in os.listdir('data/datasets') if file.startswith('train-00000-5k') and file.endswith('.parquet')]\n",
    "\n",
    "# Initialize merged data\n",
    "merged_data = pd.DataFrame()\n",
    "\n",
    "# Initialize list to store measurements\n",
    "measurements = []\n",
    "\n",
    "# Load and process each data file for four rounds\n",
    "for index, file in enumerate(data_files):\n",
    "    if index >= 4:\n",
    "        break\n",
    "\n",
    "    # Load data file\n",
    "    df = pd.read_parquet(os.path.join('data/datasets', file))\n",
    "\n",
    "    # Merge latest data file with merged data to date\n",
    "    merged_data = pd.concat([merged_data, df], ignore_index=True)\n",
    "\n",
    "    # Call learn function with merged dataframe and index\n",
    "    measurements = learn(merged_data, index, measurements)\n",
    "\n",
    "# Convert measurements to a DataFrame for easier inspection\n",
    "df_measurements = pd.DataFrame(measurements)\n",
    "\n",
    "# Show the results\n",
    "print(df_measurements)\n"
   ]
  },
  {
   "cell_type": "markdown",
   "id": "c4a0ad45841dd61a",
   "metadata": {
    "collapsed": false
   },
   "source": [
    "Using the measurements variable from the last function, let us plot lines on the same graph for train, predict and accuracy using python?  Use matplotlib. Add a legend. Add axis labels.  Add a title. Let us show the plot in this notebook below."
   ]
  },
  {
   "cell_type": "code",
   "execution_count": 11,
   "id": "bd88c933",
   "metadata": {},
   "outputs": [
    {
     "data": {
      "image/png": "[encoded data removed]",
      "text/plain": [
       "<Figure size 1200x800 with 1 Axes>"
      ]
     },
     "metadata": {},
     "output_type": "display_data"
    }
   ],
   "source": [
    "import matplotlib.pyplot as plt\n",
    "from sklearn.preprocessing import MinMaxScaler\n",
    "\n",
    "\n",
    "# Extract data for plotting\n",
    "rounds = [measurement[\"round\"] for measurement in measurements]\n",
    "train_times = [measurement[\"train\"] for measurement in measurements]\n",
    "predict_times = [measurement[\"predict\"] for measurement in measurements]\n",
    "accuracies = [measurement[\"accuracy\"] for measurement in measurements]\n",
    "\n",
    "\n",
    "# Plot lines for train, predict, and accuracy with points\n",
    "plt.figure(figsize=(12, 8))\n",
    "plt.plot(rounds, train_times, marker='o', label='Train Time', color='blue', linestyle='-', linewidth=2)\n",
    "plt.plot(rounds, predict_times, marker='o', label='Predict Time', color='green', linestyle='-', linewidth=2)\n",
    "plt.plot(rounds, accuracies, marker='o', label='Accuracy', color='red', linestyle='-', linewidth=2)\n",
    "\n",
    "# Add legend, axis labels, and title\n",
    "plt.legend()\n",
    "plt.xlabel('Round')\n",
    "plt.ylabel('Time (seconds) / Accuracy')\n",
    "plt.title('Training Time, Prediction Time, and Accuracy Over Rounds')\n",
    "\n",
    "# Show the plot\n",
    "plt.grid(True)\n",
    "plt.show()"
   ]
  }
 ],
 "metadata": {
  "kernelspec": {
   "display_name": "Python 3",
   "language": "python",
   "name": "python3"
  },
  "language_info": {
   "codemirror_mode": {
    "name": "ipython",
    "version": 3
   },
   "file_extension": ".py",
   "mimetype": "text/x-python",
   "name": "python",
   "nbconvert_exporter": "python",
   "pygments_lexer": "ipython3",
   "version": "3.10.8"
  }
 },
 "nbformat": 4,
 "nbformat_minor": 5
}
