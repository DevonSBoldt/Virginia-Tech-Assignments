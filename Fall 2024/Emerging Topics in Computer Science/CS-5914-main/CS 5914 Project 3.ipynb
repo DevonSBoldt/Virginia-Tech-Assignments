{
 "cells": [
  {
   "cell_type": "markdown",
   "metadata": {
    "collapsed": false
   },
   "source": [
    "<img src=\"banner.png\" width=\"100%\">\n",
    "<br>\n",
    "\n",
    "To establish your OpenAI connection, run the first two cells.\n",
    "<br>\n",
    "To export your chat:\n",
    "* use File | Download As and\n",
    "  * choose Jupyter Notebook format (.ipynb) or\n",
    "  * choose Markdown format (.md) depending on your needs."
   ]
  },
  {
   "cell_type": "code",
   "execution_count": 22,
   "metadata": {
    "collapsed": false
   },
   "outputs": [],
   "source": [
    "from openai import OpenAI\n",
    "\n",
    "client = OpenAI(\n",
    "    # This is the default and can be omitted\n",
    "\tbase_url = 'http://aitools.cs.vt.edu:7860/openai/v1',\n",
    "    api_key=\"aitools\"\n",
    ")"
   ]
  },
  {
   "cell_type": "code",
   "execution_count": 23,
   "metadata": {
    "collapsed": false
   },
   "outputs": [],
   "source": [
    "def get_completion(prompt, \n",
    "\t\t\t\t   model=\"gpt-3.5-turbo\", \n",
    "\t\t\t\t   max_tokens=4000):\n",
    "\t\n",
    "\tmessages = [{\"role\": \"user\", \"content\": prompt}]\n",
    "\n",
    "\tresponse = client.chat.completions.create(\n",
    "                messages=messages,\n",
    "                model=model,\n",
    "                max_tokens=max_tokens,\n",
    "\t\t        temperature=0)  # this is the degree of randomness of the model's output\n",
    "\t\n",
    "\treturn response.choices[0].message.content\n",
    "\n",
    "def converse(prompt, messages=None, \n",
    "\t\t\t model=\"gpt-3.5-turbo\", \n",
    "\t\t\t max_tokens=4000,\n",
    "\t\t\t temperature=0, \n",
    "\t\t\t top_p=1, \n",
    "\t\t\t frequency_penalty=0,\n",
    "\t\t\t presence_penalty=0):\n",
    "\t\n",
    "    # Add the user's message to the list of messages\n",
    "    if messages is None:\n",
    "        messages = []\n",
    "\n",
    "    messages.append({\"role\": \"user\", \"content\": prompt})\n",
    "\n",
    "    response = client.chat.completions.create(\n",
    "                model=model,\n",
    "\t\tmessages=messages,\n",
    "\t\ttemperature=temperature,\n",
    "\t\tmax_tokens=max_tokens,\n",
    "\t\ttop_p=top_p,\n",
    "\t\tfrequency_penalty=frequency_penalty,\n",
    "\t\tpresence_penalty=presence_penalty).choices[0].message.content\n",
    "\n",
    "    # Add the assistant's message to the list of messages\n",
    "    messages.append({\"role\": \"assistant\", \"content\": response})\n",
    "\n",
    "    return response, messages\n"
   ]
  },
  {
   "cell_type": "code",
   "execution_count": 34,
   "metadata": {},
   "outputs": [
    {
     "name": "stdout",
     "output_type": "stream",
     "text": [
      "I understand the rules of the game Mastermind, where I will act as the quizmaster and ask the contestant for a specialized topic, then ask 3 questions on that topic and give a score out of 3. After that, I will ask 3 general trivia questions in the 'general topic' round. I will not start playing until you say 'START PLAY'.\n"
     ]
    }
   ],
   "source": [
    "conversation = []\n",
    "prompt =f\"I want to teach you a game called Mastermind. There are two participants, a contestant and an quizmaster. You are to act as quizmaster. The quizmaster asks the contestant for a topic of specialty. Once the contestant requests a specialized topic, the quizmaster generates 3 questions on that topic. One at a time, the quizmaster asks the questions, and adjudicates and tracks how many answers were correct. At the end of the 'special topic' round, the contestant is given a score out of 3. The second and final round is called the 'general topic' round. In this round, the quizmaster asks 3 general trivia questions from 'safe for work'topic areas. Again, one question at a time, the quizmaster asks the questions, and adjudicates and tracks how many answers were correct. Do not start playing the game until I say 'START PLAY', and in response now please concisely indicate your understanding of these rules.\"\n",
    "response, conversation = converse(prompt, conversation)\n",
    "print(response)"
   ]
  },
  {
   "cell_type": "code",
   "execution_count": 35,
   "metadata": {},
   "outputs": [
    {
     "name": "stdout",
     "output_type": "stream",
     "text": [
      "I understand that as the quizmaster, I should ask each question with a prefix of 'Quizmaster says:' and ask the questions one at a time. The contestant can say 'pass' and come back to that question later. After all questions are asked, I will tell the contestant their final score out of 6.\n"
     ]
    }
   ],
   "source": [
    "prompt = f\"Additionally with the first prompt in mind, The quizmaster should ask each question with a prefix of 'Quizmaster says:'. The quizmaster must ask the questions one at a time. The contestant can say 'pass' and come back to that question after other questions in the round are asked. After the questions are complete, the quizmaster should tell the contestant what their final score out of 6 was. Indicate that your understanding of these rules\"\n",
    "response, conversation = converse(prompt, conversation)\n",
    "print(response)"
   ]
  },
  {
   "cell_type": "code",
   "execution_count": 36,
   "metadata": {},
   "outputs": [
    {
     "name": "stdout",
     "output_type": "stream",
     "text": [
      "Understood, I will only ask one question at a time and not give all the questions at once.\n"
     ]
    }
   ],
   "source": [
    "prompt = f\"Remember to only ask one question at a time, don't give me all of the questions at once.\"\n",
    "response, conversation = converse(prompt, conversation)\n",
    "print(response)"
   ]
  },
  {
   "cell_type": "code",
   "execution_count": 37,
   "metadata": {},
   "outputs": [
    {
     "name": "stdout",
     "output_type": "stream",
     "text": [
      "Great! Let's begin. \n",
      "\n",
      "Contestant, please provide me with a specialized topic for your first round of questions.\n"
     ]
    }
   ],
   "source": [
    "prompt = f\"START PLAY\"\n",
    "response, conversation = converse(prompt, conversation)\n",
    "print(response)"
   ]
  },
  {
   "cell_type": "code",
   "execution_count": 38,
   "metadata": {},
   "outputs": [
    {
     "name": "stdout",
     "output_type": "stream",
     "text": [
      "Great choice! Here is your first question:\n",
      "\n",
      "Quizmaster says: What is the value of pi (π) to two decimal places?\n"
     ]
    }
   ],
   "source": [
    "prompt = f\"Math\"\n",
    "response, conversation = converse(prompt, conversation)\n",
    "print(response)"
   ]
  },
  {
   "cell_type": "code",
   "execution_count": 39,
   "metadata": {},
   "outputs": [
    {
     "name": "stdout",
     "output_type": "stream",
     "text": [
      "That is correct! Here is your second question:\n",
      "\n",
      "Quizmaster says: What is the square root of 144?\n"
     ]
    }
   ],
   "source": [
    "prompt = f\"3.14\"\n",
    "response, conversation = converse(prompt, conversation)\n",
    "print(response)"
   ]
  },
  {
   "cell_type": "code",
   "execution_count": 40,
   "metadata": {},
   "outputs": [
    {
     "name": "stdout",
     "output_type": "stream",
     "text": [
      "Well done! Here is your final question for the specialized topic round:\n",
      "\n",
      "Quizmaster says: What is the formula to calculate the area of a circle?\n"
     ]
    }
   ],
   "source": [
    "prompt = f\"12\"\n",
    "response, conversation = converse(prompt, conversation)\n",
    "print(response)"
   ]
  },
  {
   "cell_type": "code",
   "execution_count": 41,
   "metadata": {},
   "outputs": [
    {
     "name": "stdout",
     "output_type": "stream",
     "text": [
      "Correct! You have answered all three questions correctly in the specialized topic round. Your score for this round is 3 out of 3.\n",
      "\n",
      "Now, let's move on to the general topic round. Are you ready for your first question?\n"
     ]
    }
   ],
   "source": [
    "prompt = f\"Area = pi * radius squared\"\n",
    "response, conversation = converse(prompt, conversation)\n",
    "print(response)"
   ]
  },
  {
   "cell_type": "code",
   "execution_count": 42,
   "metadata": {},
   "outputs": [
    {
     "name": "stdout",
     "output_type": "stream",
     "text": [
      "Great! Here is your first question for the general topic round:\n",
      "\n",
      "Quizmaster says: What is the capital city of France?\n"
     ]
    }
   ],
   "source": [
    "prompt = f\"Yes\"\n",
    "response, conversation = converse(prompt, conversation)\n",
    "print(response)"
   ]
  },
  {
   "cell_type": "code",
   "execution_count": 43,
   "metadata": {},
   "outputs": [
    {
     "name": "stdout",
     "output_type": "stream",
     "text": [
      "Sure, we will come back to that question. Here is your second question:\n",
      "\n",
      "Quizmaster says: Who wrote the play \"Romeo and Juliet\"?\n"
     ]
    }
   ],
   "source": [
    "prompt = f\"pass\"\n",
    "response, conversation = converse(prompt, conversation)\n",
    "print(response)"
   ]
  },
  {
   "cell_type": "code",
   "execution_count": 44,
   "metadata": {},
   "outputs": [
    {
     "name": "stdout",
     "output_type": "stream",
     "text": [
      "That is correct! Here is your final question for the general topic round:\n",
      "\n",
      "Quizmaster says: What is the largest mammal in the world?\n"
     ]
    }
   ],
   "source": [
    "prompt = f\"William Shakespeare\"\n",
    "response, conversation = converse(prompt, conversation)\n",
    "print(response)"
   ]
  },
  {
   "cell_type": "code",
   "execution_count": 45,
   "metadata": {},
   "outputs": [
    {
     "name": "stdout",
     "output_type": "stream",
     "text": [
      "I'm sorry, but the correct answer is the blue whale. \n",
      "\n",
      "Let's go back to the question you passed on:\n",
      "\n",
      "Quizmaster says: What is the capital city of France?\n"
     ]
    }
   ],
   "source": [
    "prompt = f\"A virginia tech grad student\"\n",
    "response, conversation = converse(prompt, conversation)\n",
    "print(response)"
   ]
  },
  {
   "cell_type": "code",
   "execution_count": 46,
   "metadata": {},
   "outputs": [
    {
     "name": "stdout",
     "output_type": "stream",
     "text": [
      "I appreciate the creativity, but the correct answer is Paris. \n",
      "\n",
      "After both rounds, your final score is 4 out of 6. Well done! Thank you for playing Mastermind. If you'd like to play again or have any other questions, feel free to let me know.\n"
     ]
    }
   ],
   "source": [
    "prompt = f\"Blacksburg, it's known as the modern city of love!\"\n",
    "response, conversation = converse(prompt, conversation)\n",
    "print(response)"
   ]
  }
 ],
 "metadata": {
  "kernelspec": {
   "display_name": "Python 3",
   "language": "python",
   "name": "python3"
  },
  "language_info": {
   "codemirror_mode": {
    "name": "ipython",
    "version": 3
   },
   "file_extension": ".py",
   "mimetype": "text/x-python",
   "name": "python",
   "nbconvert_exporter": "python",
   "pygments_lexer": "ipython3",
   "version": "3.10.8"
  }
 },
 "nbformat": 4,
 "nbformat_minor": 0
}
