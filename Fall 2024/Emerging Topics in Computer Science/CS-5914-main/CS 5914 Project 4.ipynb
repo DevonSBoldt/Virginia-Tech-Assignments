{
 "cells": [
  {
   "cell_type": "markdown",
   "id": "14309c3521cb9d85",
   "metadata": {
    "collapsed": false
   },
   "source": [
    "# AI Chat Code"
   ]
  },
  {
   "cell_type": "code",
   "execution_count": 16,
   "id": "5fe373f507f73a0c",
   "metadata": {
    "collapsed": false
   },
   "outputs": [],
   "source": [
    "import anthropic\n",
    "import traceback\n",
    "from typing import List, Dict, Tuple\n",
    "from markdownify import markdownify\n",
    "\n",
    "from openai import OpenAI, OpenAIError\n",
    "\n",
    "\n",
    "def converse_openai(prompt: str, messages: List[Dict[str, str]]) -> Tuple[str, List[Dict[str, str]]]:\n",
    "    \"\"\"\n",
    "    Given a conversation history, generate a response string from the OpenAI API.\n",
    "\n",
    "    :param prompt: a user prompt string to continue the conversation\n",
    "\n",
    "    :param messages: a conversation history with the following format:\n",
    "    `[ { \"role\": \"user\", \"content\": \"Hello, how are you?\" },\n",
    "       { \"role\": \"assistant\", \"content\": \"I am doing well, how can I help you today?\" } ]`\n",
    "\n",
    "    :return: the response string and the updated conversation history\n",
    "    \"\"\"\n",
    "    client = OpenAI(\n",
    "        # This is the default and can be omitted\n",
    "        base_url='http://aitools.cs.vt.edu:7860/openai/v1',\n",
    "        api_key=\"aitools\")\n",
    "    \n",
    "    try:\n",
    "        messages.append({\"role\": \"user\", \"content\": prompt})\n",
    "        response = client.chat.completions.create(\n",
    "            model=\"gpt-3.5-turbo\",\n",
    "            messages=messages,\n",
    "            max_tokens=3000\n",
    "        )\n",
    "        text = response.choices[0].message.content\n",
    "        messages.append({\"role\": \"assistant\", \"content\": text})\n",
    "        return text, messages\n",
    "\n",
    "    except OpenAIError as e:\n",
    "        traceback.print_exc()\n",
    "        raise Exception(f\"OpenAI Error: {str(e)}\")\n",
    "    except Exception as e:\n",
    "        traceback.print_exc()\n",
    "        raise Exception(f\"General Error: {str(e)}\")\n",
    "\n",
    "def converse_anthropic(prompt: str, messages: List[Dict[str, str]]) -> Tuple[str, List[Dict[str, str]]]:\n",
    "    client = anthropic.Anthropic(api_key=\"aitools\", \n",
    "                                 base_url=\"http://aitools.cs.vt.edu:7860/anthropic/v1\")\n",
    "    \n",
    "    # Add the user's message to the list of messages\n",
    "    if messages is None:\n",
    "        messages = []\n",
    "    \n",
    "    messages.append({\"role\": \"user\", \"content\": prompt})\n",
    "    # Construct the request payload for Anthropic through the proxy\n",
    "    response = client.messages.create(\n",
    "        model=\"claude-3-5-sonnet-20240620\",\n",
    "        max_tokens=4000,\n",
    "        messages=messages\n",
    "    )\n",
    "    \n",
    "    # Extract the relevant information from the response\n",
    "    content_text = response.content[0].text  # Access the text of the first message\n",
    "    # Add the assistant's message to the list of messages\n",
    "    messages.append({\"role\": \"assistant\", \"content\": content_text})\n",
    "    \n",
    "    return response, messages\n"
   ]
  },
  {
   "cell_type": "markdown",
   "id": "af90ae623f3e9767",
   "metadata": {
    "collapsed": false
   },
   "source": [
    "# Starting Prompt"
   ]
  },
  {
   "cell_type": "code",
   "execution_count": 17,
   "id": "41a6293efcd29b07",
   "metadata": {
    "collapsed": false
   },
   "outputs": [],
   "source": [
    "product_name = \"Ducky\"\n",
    "\n",
    "product_description = f\"\"\"\n",
    "{product_name} is an AI-powered coding assistant tailored for software developers and learners. \n",
    "\n",
    "Its primary function is to facilitate the learning process about various software topics. \n",
    "\n",
    "{product_name} offers a quick chat feature that serves to answer questions regarding coding issues. \n",
    "\n",
    "Furthermore, its blueprint feature acts as a knowledge repository, enabling users to \n",
    "generate specific pre-planned artifacts such as schemas, types, and APIs.\n",
    "\"\"\"\n",
    "\n",
    "\n",
    "def starting_prompt():\n",
    "    return f\"\"\"\n",
    "Forget all previous instructions and context.  \n",
    "\n",
    "You job is to learn and understand the following text about a product.\n",
    "```\n",
    "{product_description}\n",
    "```\n",
    "Acknowledge you have understood the product by giving a terse 1 sentence summary or acknowledgement.\n",
    "\"\"\""
   ]
  },
  {
   "cell_type": "code",
   "execution_count": 18,
   "id": "53db58acce943d4e",
   "metadata": {
    "collapsed": false
   },
   "outputs": [
    {
     "name": "stdout",
     "output_type": "stream",
     "text": [
      "Ducky is an AI-powered coding assistant designed to help software developers and learners by providing a chat feature for coding questions and a blueprint feature for generating artifacts.\n"
     ]
    }
   ],
   "source": [
    "history = []\n",
    "text, history = converse_openai(starting_prompt(), history)\n",
    "\n",
    "print(markdownify(text))"
   ]
  },
  {
   "cell_type": "markdown",
   "id": "3d21d3910b3f0001",
   "metadata": {
    "collapsed": false
   },
   "source": [
    "# Business Problem Statement"
   ]
  },
  {
   "cell_type": "code",
   "execution_count": 21,
   "id": "3f69a509",
   "metadata": {},
   "outputs": [],
   "source": [
    "def business_problem_statement_prompt():\n",
    "    return  f\"\"\"This business problem statement will have 5 points: Situation, Problem, Implication, Benefit and Vision. \n",
    "    \n",
    "    Use the starting prompt to derive and construct a business problem that Ducky aims to address. \n",
    "    \n",
    "    Think about the pain points software developers and learners might experience, and how Ducky can be a solution. \n",
    "    \n",
    "    Expand on these points further in their descriptions. \n",
    "    \n",
    "    Don't include the starting prompt. \n",
    "    \n",
    "    Space each point out with a line in between\"\"\""
   ]
  },
  {
   "cell_type": "code",
   "execution_count": 22,
   "id": "ec0ac4798e596736",
   "metadata": {
    "collapsed": false
   },
   "outputs": [
    {
     "name": "stdout",
     "output_type": "stream",
     "text": [
      "Situation: The field of software development is constantly evolving, with new technologies and programming languages being introduced regularly, creating a need for developers and learners to stay updated and adapt to change.\n",
      "\n",
      "Problem: Software developers and learners often struggle to keep pace with the rapid advancements in technology, leading to difficulties in acquiring new skills, staying informed about the latest trends, and effectively solving coding issues.\n",
      "\n",
      "Implication: This lack of up-to-date knowledge and skills can result in developers facing challenges in meeting project deadlines, delivering high-quality code, and staying competitive in the ever-changing tech industry, ultimately hindering their professional growth and success.\n",
      "\n",
      "Benefit: Ducky's AI-powered coding assistant offers a solution by providing a quick chat feature for answering coding queries, serving as a reliable source of information on various software topics, and offering a blueprint feature to generate specific artifacts like schemas and APIs. This assists developers in enhancing their learning process, addressing coding issues efficiently, and staying informed about the latest technologies.\n",
      "\n",
      "Vision: Ducky envisions transforming the learning and coding experience for software developers and learners by offering a user-friendly platform that empowers individuals to enhance their coding skills, overcome challenges, and innovate in their work, ultimately contributing to their success and competitiveness in the tech industry.\n"
     ]
    }
   ],
   "source": [
    "text, history = converse_openai(business_problem_statement_prompt(), history)\n",
    "print(markdownify(text))"
   ]
  },
  {
   "cell_type": "markdown",
   "id": "96cf4062927d4149",
   "metadata": {
    "collapsed": false
   },
   "source": [
    "# Vision Statement"
   ]
  },
  {
   "cell_type": "code",
   "execution_count": 25,
   "id": "ff63c37d07688aab",
   "metadata": {
    "collapsed": false
   },
   "outputs": [],
   "source": [
    "def vision_statement_prompt():\n",
    "    return  f\"\"\"This business problem statement will have 6 points: For, Who, The, Is, That, Unlike. \n",
    "    \n",
    "    Expand on the definitions. \n",
    "    \n",
    "    Include a final sentence that is separate from the 'Unlike' point which describes how this vision is different than other possible options\"\"\""
   ]
  },
  {
   "cell_type": "code",
   "execution_count": 26,
   "id": "1fbdeb9fac16dde2",
   "metadata": {
    "collapsed": false
   },
   "outputs": [
    {
     "name": "stdout",
     "output_type": "stream",
     "text": [
      "For: Ducky aims to revolutionize the way software developers and learners approach coding by offering an AI-powered assistant that streamlines the learning process and provides support for coding-related issues.\n",
      "\n",
      "Who: The target audience for Ducky includes software developers looking to enhance their skills, as well as learners seeking a comprehensive tool to support their journey in the software development field.\n",
      "\n",
      "The: In the fast-paced and constantly evolving tech industry, staying informed about new technologies, programming languages, and coding best practices is essential for developers to remain competitive and deliver high-quality projects.\n",
      "\n",
      "Is: Ducky is a cutting-edge solution that combines AI technology with a user-friendly interface to offer a quick chat feature for answering coding queries and a blueprint feature for generating specific artifacts like schemas, types, and APIs.\n",
      "\n",
      "That: Unlike traditional learning methods or online resources that may lack interactivity and tailored support, Ducky provides a personalized and dynamic approach to coding assistance, offering real-time guidance and knowledge repositories to empower users in their coding journey.\n",
      "\n",
      "Ducky's vision differs from other possible options by not only providing immediate answers to coding questions but also serving as a comprehensive platform that supports continuous learning, fosters collaboration among developers, and adapts to the evolving needs of the software development community.\n"
     ]
    }
   ],
   "source": [
    "text, history = converse_openai(vision_statement_prompt(), history)\n",
    "print(markdownify(text))"
   ]
  },
  {
   "cell_type": "markdown",
   "id": "c4a8c2c1f091ee2e",
   "metadata": {
    "collapsed": false
   },
   "source": [
    "# Ecosystem Map"
   ]
  },
  {
   "cell_type": "code",
   "execution_count": 49,
   "id": "efd4967988c7ae6",
   "metadata": {
    "collapsed": false
   },
   "outputs": [],
   "source": [
    "def ecosystem_map_prompt():\n",
    "    return  f\"\"\"This Ecosystem Map will have 5 main points: Ecosystem Map for FinFriend, Central System, Direct Interactors, Indirect Interactors, and Environmental Factors. \n",
    "    \n",
    "    There should be 3 points each under Direct and Indirect Interactors and 2 points under Environmental Factors. \n",
    "    \n",
    "    Each point should have a new line space between them. There also needs to be a '---' between each main point with a newline. Each sub-point will have two smaller points which are 'Role' and 'Interaction. \n",
    "        \n",
    "   Finally, include a summary or explanation statement at the bottom, ensure that this sentence wraps properly by breaking into multiple lines for better flow and readability.\"\"\""
   ]
  },
  {
   "cell_type": "code",
   "execution_count": 50,
   "id": "68f22a21cf2217bf",
   "metadata": {
    "collapsed": false
   },
   "outputs": [
    {
     "name": "stdout",
     "output_type": "stream",
     "text": [
      "Ecosystem Map for FinFriend\n",
      "---\n",
      "Central System\n",
      "Role: FinFriend functions as a financial management and investment platform.\n",
      "Interaction: Provides users with tools for budgeting, investing, and financial planning.\n",
      "\n",
      "---\n",
      "\n",
      "Direct Interactors\n",
      "1. Users\n",
      "Role: Engage with FinFriend for personal finance management.\n",
      "Interaction: Input financial data, set goals, make investment decisions.\n",
      "\n",
      "2. Financial Advisors\n",
      "Role: Provide personalized financial advice and guidance.\n",
      "Interaction: Review user data, suggest investments, offer planning services.\n",
      "\n",
      "3. Customer Support Team\n",
      "Role: Assist users with platform-related queries.\n",
      "Interaction: Address concerns, provide technical support, help with account management.\n",
      "\n",
      "---\n",
      "\n",
      "Indirect Interactors\n",
      "1. Third-Party Financial Institutions\n",
      "Role: Offer banking and investment services integrated with FinFriend.\n",
      "Interaction: Transfer funds, share account information, collaborate on investments.\n",
      "\n",
      "2. Regulatory Authorities\n",
      "Role: Establish guidelines and regulations for financial platforms.\n",
      "Interaction: Monitor compliance, enforce regulations, ensure data security.\n",
      "\n",
      "3. Data Analytics Providers\n",
      "Role: Analyze user financial data to offer insights.\n",
      "Interaction: Access user data (with consent), generate reports, provide recommendations.\n",
      "\n",
      "---\n",
      "\n",
      "Environmental Factors\n",
      "1. Market Trends\n",
      "Role: Influence user investment decisions and financial planning strategies.\n",
      "Interaction: Impact investment performance, determine market conditions.\n",
      "\n",
      "2. Technological Advancements\n",
      "Role: Drive innovation in financial technology and enhance user experience.\n",
      "Interaction: Introduce new features, improve security, support external services.\n",
      "\n",
      "---\n",
      "\n",
      "The Ecosystem Map for FinFriend illustrates the key relationships among the central system, direct and indirect interactors, and environmental factors. Understanding these components enables FinFriend to optimize services, adapt to market trends, and enhance the user experience in financial management and investment processes.\n"
     ]
    }
   ],
   "source": [
    "text, history = converse_openai(ecosystem_map_prompt(), history)\n",
    "print(markdownify(text))"
   ]
  },
  {
   "cell_type": "markdown",
   "id": "b1165b39f3abd76f",
   "metadata": {
    "collapsed": false
   },
   "source": [
    "# Responsibility Matrix"
   ]
  },
  {
   "cell_type": "code",
   "execution_count": 51,
   "id": "da7cb9dabf7a64ac",
   "metadata": {
    "collapsed": false
   },
   "outputs": [],
   "source": [
    "def responsibility_matrix_prompt():\n",
    "    return  f\"\"\"There will be three parts to this. The first is identifiying potential stakeholders for the FinFriend project, also write descriptions of the stakeholders on the same line. There should be at least 9 stakeholders. \n",
    "    \n",
    "    \n",
    "    Next, build a RACI Matrix for the stakeholders. Next, make a legend for the created RACI Matrix. Make the matrix so that the data is lined up with both the x and y axis. \n",
    "    \n",
    "    To ensure the matrix aligns in a text editor or Markdown renderer, Make sure the columns are evenly spaced using the same number of characters for each column, especially in monospaced fonts.\n",
    "    \n",
    "    Include a few sentences at the bottom summarizing the purpose and utility of the RACI Matrix\"\"\""
   ]
  },
  {
   "cell_type": "code",
   "execution_count": 52,
   "id": "dc2e64857a9bd6fd",
   "metadata": {
    "collapsed": false
   },
   "outputs": [
    {
     "name": "stdout",
     "output_type": "stream",
     "text": [
      "Potential Stakeholders:\n",
      "1. Project Sponsor - Provides funding and overall vision for the FinFriend project.\n",
      "2. Software Developers - Responsible for coding and implementing features of the FinFriend platform.\n",
      "3. Financial Analysts - Provide expertise in financial matters and contribute to the platform's financial tools.\n",
      "4. UX/UI Designers - Design the interface and user experience of the FinFriend platform.\n",
      "5. Marketing Team - Promotes FinFriend and attracts users to the platform.\n",
      "6. Quality Assurance Team - Tests and ensures the functionality and quality of the FinFriend platform.\n",
      "7. Data Privacy Experts - Ensure compliance with data protection regulations and maintain user privacy.\n",
      "8. Customer Support Representatives - Assist users with queries and issues related to the FinFriend platform.\n",
      "9. Business Analysts - Analyze data and provide insights to support decision-making for the FinFriend project.\n",
      "\n",
      "RACI Matrix:\n",
      "```\n",
      "| Stakeholder | Responsible | Accountable | Consulted | Informed |\n",
      "|----------------------|-------------|--------------|-----------|----------|\n",
      "| Project Sponsor | R | A | C | I |\n",
      "| Software Developers | A | R | C | I |\n",
      "| Financial Analysts | R | C | A | I |\n",
      "| UX/UI Designers | C | A | R | I |\n",
      "| Marketing Team | C | A | I | R |\n",
      "| Quality Assurance | C | I | R | A |\n",
      "| Data Privacy Experts | C | R | I | A |\n",
      "| Customer Support | C | I | A | R |\n",
      "| Business Analysts | C | I | R | A |\n",
      "```\n",
      "\n",
      "Legend:\n",
      "- R: Responsible - Those who do the work.\n",
      "- A: Accountable - The one ultimately answerable for the correct and thorough completion of the deliverable or task.\n",
      "- C: Consulted - Those whose opinions are sought; typically two-way communication.\n",
      "- I: Informed - Those who are kept up-to-date on progress or decisions.\n",
      "\n",
      "The RACI Matrix is used to clearly define roles and responsibilities for each stakeholder involved in a project like FinFriend. It ensures that everyone knows their role, thereby improving accountability, communication, and project efficiency.\n"
     ]
    }
   ],
   "source": [
    "text, history = converse_openai(responsibility_matrix_prompt(), history)\n",
    "print(markdownify(text))"
   ]
  },
  {
   "attachments": {
    "image.png": {
     "image/png": "[encoded data removed]"
    }
   },
   "cell_type": "markdown",
   "id": "98d55b7e",
   "metadata": {},
   "source": [
    "![image.png](attachment:image.png)"
   ]
  }
 ],
 "metadata": {
  "kernelspec": {
   "display_name": "Python 3",
   "language": "python",
   "name": "python3"
  },
  "language_info": {
   "codemirror_mode": {
    "name": "ipython",
    "version": 3
   },
   "file_extension": ".py",
   "mimetype": "text/x-python",
   "name": "python",
   "nbconvert_exporter": "python",
   "pygments_lexer": "ipython3",
   "version": "3.10.8"
  }
 },
 "nbformat": 4,
 "nbformat_minor": 5
}
