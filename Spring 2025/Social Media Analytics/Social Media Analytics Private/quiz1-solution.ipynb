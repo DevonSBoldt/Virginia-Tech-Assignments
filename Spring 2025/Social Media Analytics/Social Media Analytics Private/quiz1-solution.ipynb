{
 "cells": [
  {
   "cell_type": "code",
   "execution_count": 1,
   "metadata": {},
   "outputs": [],
   "source": [
    "import networkx as nx\n",
    "G = nx.read_edgelist('ca-HepTh.txt')"
   ]
  },
  {
   "cell_type": "markdown",
   "metadata": {},
   "source": [
    "# Q1 Average Degree"
   ]
  },
  {
   "cell_type": "code",
   "execution_count": 2,
   "metadata": {},
   "outputs": [
    {
     "data": {
      "text/plain": [
       "5.264351523742027"
      ]
     },
     "execution_count": 2,
     "metadata": {},
     "output_type": "execute_result"
    }
   ],
   "source": [
    "degs = [degree for node, degree in nx.degree(G)]\n",
    "sum(degs) / len(degs)"
   ]
  },
  {
   "cell_type": "markdown",
   "metadata": {},
   "source": [
    "On the forums someone asked if the average could be calculated as \n",
    "$$\\frac{2*\\left|E\\right|}{\\left|N\\right|}$$\n",
    "This is valid and equivalent to the above even if not immediately obvious.  We can make the case that for an undirected graph each contributes 1 to the degree of two separate nodes such that \n",
    "$$\\sum_{n \\in N}{Degree(n)} = 2 * \\left|E\\right|$$\n",
    "Substituting that into the equation for the average degree we get:\n",
    "$$\\frac{\\sum_{n \\in N}{Degree(n)}}{\\left|N\\right|} = \\frac{2 * \\left|E\\right|}{\\left|N\\right|}$$"
   ]
  },
  {
   "cell_type": "code",
   "execution_count": 3,
   "metadata": {},
   "outputs": [
    {
     "data": {
      "text/plain": [
       "5.264351523742027"
      ]
     },
     "execution_count": 3,
     "metadata": {},
     "output_type": "execute_result"
    }
   ],
   "source": [
    "2*len(G.edges) / len(G.nodes)"
   ]
  },
  {
   "cell_type": "markdown",
   "metadata": {},
   "source": [
    "# Q2 Centrality"
   ]
  },
  {
   "cell_type": "code",
   "execution_count": 4,
   "metadata": {},
   "outputs": [
    {
     "data": {
      "text/plain": [
       "[('1441', 0.006581611988659377),\n",
       " ('19615', 0.006075334143377886),\n",
       " ('63113', 0.0059740785743215875),\n",
       " ('30744', 0.005670311867152693),\n",
       " ('16164', 0.0054678007290400975),\n",
       " ('59077', 0.005366545159983799),\n",
       " ('23420', 0.005366545159983799),\n",
       " ('48973', 0.005164034021871203),\n",
       " ('44262', 0.005164034021871203),\n",
       " ('13648', 0.005062778452814905)]"
      ]
     },
     "execution_count": 4,
     "metadata": {},
     "output_type": "execute_result"
    }
   ],
   "source": [
    "dc = nx.degree_centrality(G)\n",
    "import operator\n",
    "sorted_dc = sorted(dc.items(), key=operator.itemgetter(1), reverse=True)\n",
    "sorted_dc[:10]  # only print first 10]"
   ]
  },
  {
   "cell_type": "code",
   "execution_count": 5,
   "metadata": {},
   "outputs": [
    {
     "data": {
      "text/plain": [
       "[('19615', 0.2161584120428478),\n",
       " ('30744', 0.21465343006124848),\n",
       " ('62227', 0.21352479294488405),\n",
       " ('61742', 0.2122110341750091),\n",
       " ('24394', 0.21088390056466788),\n",
       " ('50568', 0.21049016442595161),\n",
       " ('11403', 0.2100277930826736),\n",
       " ('63113', 0.2097769753221672),\n",
       " ('33715', 0.20973037763224417),\n",
       " ('43226', 0.20905702998603065)]"
      ]
     },
     "execution_count": 5,
     "metadata": {},
     "output_type": "execute_result"
    }
   ],
   "source": [
    "cc = nx.closeness_centrality(G)\n",
    "sorted_cc = sorted(cc.items(), key=operator.itemgetter(1), reverse=True)\n",
    "sorted_cc[:10]"
   ]
  },
  {
   "cell_type": "markdown",
   "metadata": {},
   "source": [
    "# Q3 Connected Components"
   ]
  },
  {
   "cell_type": "code",
   "execution_count": 6,
   "metadata": {},
   "outputs": [
    {
     "data": {
      "text/plain": [
       "429"
      ]
     },
     "execution_count": 6,
     "metadata": {},
     "output_type": "execute_result"
    }
   ],
   "source": [
    "len(list(nx.connected_components(G)))"
   ]
  },
  {
   "cell_type": "markdown",
   "metadata": {},
   "source": [
    "# Q4 Largest Connected Component"
   ]
  },
  {
   "cell_type": "code",
   "execution_count": 7,
   "metadata": {},
   "outputs": [
    {
     "data": {
      "text/plain": [
       "8638"
      ]
     },
     "execution_count": 7,
     "metadata": {},
     "output_type": "execute_result"
    }
   ],
   "source": [
    "giant_nodes = max(nx.connected_components(G), key=len)\n",
    "giant = G.subgraph(giant_nodes).copy()\n",
    "len(giant_nodes)"
   ]
  },
  {
   "cell_type": "code",
   "execution_count": 8,
   "metadata": {},
   "outputs": [
    {
     "data": {
      "text/plain": [
       "0.0006655460658431931"
      ]
     },
     "execution_count": 8,
     "metadata": {},
     "output_type": "execute_result"
    }
   ],
   "source": [
    "nx.density(giant)"
   ]
  },
  {
   "cell_type": "markdown",
   "metadata": {},
   "source": [
    "# Q5 Diameter"
   ]
  },
  {
   "cell_type": "code",
   "execution_count": 9,
   "metadata": {},
   "outputs": [
    {
     "data": {
      "text/plain": [
       "18"
      ]
     },
     "execution_count": 9,
     "metadata": {},
     "output_type": "execute_result"
    }
   ],
   "source": [
    "nx.diameter(giant)"
   ]
  },
  {
   "cell_type": "markdown",
   "metadata": {},
   "source": [
    "# Q8 Random Graphs"
   ]
  },
  {
   "cell_type": "code",
   "execution_count": 10,
   "metadata": {},
   "outputs": [
    {
     "name": "stdout",
     "output_type": "stream",
     "text": [
      "18\n",
      "9\n",
      "3\n",
      "3\n",
      "2\n",
      "1\n",
      "1\n",
      "1\n",
      "1\n",
      "1\n"
     ]
    }
   ],
   "source": [
    "import numpy as np\n",
    "import networkx as nx\n",
    "for p in np.arange(0.01, 0.5, 0.05):         # p ranges from 0.01 to 0.5 with 0.05 steps\n",
    "    G = nx.erdos_renyi_graph(20, p, 42)     # create a random erdos_renyi graph\n",
    "                                             # with 20 nodes and the given p\n",
    "    print(nx.number_connected_components(G)) # prints the number of connected\n",
    "                                             # components in the generated graph"
   ]
  },
  {
   "cell_type": "markdown",
   "metadata": {},
   "source": [
    "# Q9 Random Graphs pt 2"
   ]
  },
  {
   "cell_type": "code",
   "execution_count": 11,
   "metadata": {},
   "outputs": [
    {
     "name": "stdout",
     "output_type": "stream",
     "text": [
      "6\n",
      "7\n",
      "10\n",
      "13\n",
      "12\n",
      "10\n",
      "12\n",
      "8\n",
      "6\n",
      "7\n",
      "9\n",
      "6\n",
      "3\n",
      "6\n",
      "5\n",
      "3\n",
      "3\n",
      "4\n",
      "1\n",
      "1\n",
      "1\n",
      "2\n",
      "1\n",
      "1\n",
      "2\n",
      "2\n",
      "1\n",
      "1\n"
     ]
    }
   ],
   "source": [
    "for n in np.arange(10,150,5):                   # n ranges from 10 to 150 with 5 steps    \n",
    "    G = nx.erdos_renyi_graph(n, 0.05, seed=42)\n",
    "    print(nx.number_connected_components(G))    # prints the number of connected\n",
    "                                                # components in the generated graph"
   ]
  },
  {
   "cell_type": "code",
   "execution_count": null,
   "metadata": {},
   "outputs": [],
   "source": []
  }
 ],
 "metadata": {
  "kernelspec": {
   "display_name": "Python 3",
   "language": "python",
   "name": "python3"
  },
  "language_info": {
   "codemirror_mode": {
    "name": "ipython",
    "version": 3
   },
   "file_extension": ".py",
   "mimetype": "text/x-python",
   "name": "python",
   "nbconvert_exporter": "python",
   "pygments_lexer": "ipython3",
   "version": "3.10.12"
  }
 },
 "nbformat": 4,
 "nbformat_minor": 2
}
